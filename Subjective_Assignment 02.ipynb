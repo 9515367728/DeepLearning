{
 "cells": [
  {
   "cell_type": "markdown",
   "metadata": {
    "colab_type": "text",
    "id": "0dfrhfu9gHGm"
   },
   "source": [
    "# Assignments"
   ]
  },
  {
   "cell_type": "markdown",
   "metadata": {
    "colab_type": "text",
    "id": "FtgEbDsxgHGo"
   },
   "source": [
    "Q1. Write the Python function to get a string made of 4 copies of the last\n",
    "two characters of the specified string (length must be at least 2).\n",
    "\n",
    "    Sample function and result :\n",
    "    insert-end ('Python') -> abababab\n",
    "    insert-end('Exercises') -> jkjkjkjk"
   ]
  },
  {
   "cell_type": "code",
   "execution_count": 1,
   "metadata": {
    "colab": {
     "base_uri": "https://localhost:8080/",
     "height": 51
    },
    "colab_type": "code",
    "id": "oFSWhh7igHGp",
    "outputId": "ac1753f5-f269-4f5a-c96e-6bd42a0a42f4"
   },
   "outputs": [
    {
     "name": "stdout",
     "output_type": "stream",
     "text": [
      "onononon\n",
      "eseseses\n"
     ]
    }
   ],
   "source": [
    "def Four_copies(string):\n",
    "    return string[-2:]*4\n",
    "\n",
    "print(Four_copies('Python'))\n",
    "\n",
    "print(Four_copies('Exercises'))"
   ]
  },
  {
   "cell_type": "markdown",
   "metadata": {
    "colab_type": "text",
    "id": "YDo6w1DGgHGw"
   },
   "source": [
    "Q2. Write the python function to get a string made of its first three\n",
    "characters of a specified string. If the length of the string is less than 3\n",
    "then return the original string.\n",
    "    \n",
    "    Sample function and result :\n",
    "    first-three('ipy') -> ipy\n",
    "    first-three('python') -> pyt"
   ]
  },
  {
   "cell_type": "code",
   "execution_count": 2,
   "metadata": {
    "colab": {
     "base_uri": "https://localhost:8080/",
     "height": 51
    },
    "colab_type": "code",
    "id": "bmn4jF4vgHGx",
    "outputId": "ded9db94-774d-454c-e6a1-14cef135d951"
   },
   "outputs": [
    {
     "name": "stdout",
     "output_type": "stream",
     "text": [
      "ipy\n",
      "ips\n"
     ]
    }
   ],
   "source": [
    "def length_of_string(data):\n",
    "    if len(data)>3:\n",
    "        return data[:3]\n",
    "    else:\n",
    "        return data\n",
    "    \n",
    "print(length_of_string('ipy'))\n",
    "print(length_of_string('ipspj'))"
   ]
  },
  {
   "cell_type": "markdown",
   "metadata": {
    "colab_type": "text",
    "id": "e30Pq7uVgHG2"
   },
   "source": [
    "Q3. Write the Python program to find smallest window that contains all\n",
    "characters of the given string?\n",
    "\n",
    "    Original Strings:\n",
    "    asdaewsqgtwwsa\n",
    "    Smallest window that contains all characters of the said string:\n",
    "    Daewsqgt"
   ]
  },
  {
   "cell_type": "code",
   "execution_count": 3,
   "metadata": {
    "colab": {
     "base_uri": "https://localhost:8080/",
     "height": 51
    },
    "colab_type": "code",
    "id": "tVvKYUPIgHG3",
    "outputId": "5a303b36-c9f1-4792-8fe9-0b9063e8e3eb"
   },
   "outputs": [
    {
     "name": "stdout",
     "output_type": "stream",
     "text": [
      "Original Strings:\n",
      " asdaewsqgtwwsa\n",
      "\n",
      "Smallest window that contains all characters of the said string:\n",
      "daewsqgt\n"
     ]
    }
   ],
   "source": [
    "from collections import defaultdict   \n",
    "\n",
    "def find_sub_string(str): \n",
    "    str_len = len(str) \n",
    "      \n",
    "    # Count all distinct characters. \n",
    "    dist_count_char = len(set([x for x in str])) \n",
    "  \n",
    "    ctr, start_pos, start_pos_index, min_len = 0, 0, -1, 9999999999\n",
    "    curr_count = defaultdict(lambda: 0) \n",
    "    for i in range(str_len): \n",
    "        curr_count[str[i]] += 1\n",
    " \n",
    "        if curr_count[str[i]] == 1: \n",
    "            ctr += 1\n",
    "  \n",
    "        if ctr == dist_count_char: \n",
    "            while curr_count[str[start_pos]] > 1: \n",
    "                if curr_count[str[start_pos]] > 1: \n",
    "                    curr_count[str[start_pos]] -= 1\n",
    "                start_pos += 1\n",
    "  \n",
    "            len_window = i - start_pos + 1\n",
    "            if min_len > len_window: \n",
    "                min_len = len_window \n",
    "                start_pos_index = start_pos \n",
    "    return str[start_pos_index: start_pos_index + min_len] \n",
    "      \n",
    "str1 = \"asdaewsqgtwwsa\"\n",
    "print(\"Original Strings:\\n\",str1)\n",
    "print(\"\\nSmallest window that contains all characters of the said string:\")\n",
    "print(find_sub_string(str1)) "
   ]
  },
  {
   "cell_type": "markdown",
   "metadata": {
    "colab_type": "text",
    "id": "TYDFXbImgHG_"
   },
   "source": [
    "Q4. Write the Python program to count number of substrings from a\n",
    "given string of lowercase alphabets with exactly k distinct (given)\n",
    "characters?\n",
    "\n",
    "    Input a string (lowercase alphabets): wolf\n",
    "    Input k: 4\n",
    "    Number of substrings with exactly 4 distinct characters: 1"
   ]
  },
  {
   "cell_type": "code",
   "execution_count": null,
   "metadata": {
    "colab": {},
    "colab_type": "code",
    "id": "Mue9CrzhgHHA"
   },
   "outputs": [],
   "source": [
    "def k_dist(data, k): \n",
    "    length = len(data) \n",
    "    result = 0\n",
    "    ctr = [0] * 27\n",
    "    for i in range(0, length): \n",
    "        data1 = 0\n",
    "        ctr = [0] * 27\n",
    "        for j in range(i, length): \n",
    "            if(ctr[ord(data[j]) - 97] == 0): \n",
    "                data1 += 1\n",
    "            ctr[ord(data[j]) - 97] += 1\n",
    "            if(data1 == k): \n",
    "                result += 1\n",
    "            if(data1 > k): \n",
    "                    break\n",
    "    return result \n",
    "\n",
    "data = input(\"Input a string (lowercase alphabets):\")\n",
    "k = int(input(\"Input k: \"))\n",
    "print(\"Number of substrings with exactly\", k, \"distinct characters : \", end = \"\") \n",
    "print(k_dist(data, k))"
   ]
  },
  {
   "cell_type": "markdown",
   "metadata": {
    "colab_type": "text",
    "id": "wz5Toon2gHHE"
   },
   "source": [
    "Q5. Write the Python program to count number of non-empty\n",
    "substrings of the given string?\n",
    "\n",
    "    Input a string: w3resource\n",
    "    Number of substrings:\n",
    "    55"
   ]
  },
  {
   "cell_type": "code",
   "execution_count": null,
   "metadata": {
    "colab": {},
    "colab_type": "code",
    "id": "72YrYvjrgHHF"
   },
   "outputs": [],
   "source": [
    "def non_empty_substrings(input_data): \n",
    "    length = len(input_data); \n",
    "    return int(length * (length + 1) / 2); \n",
    "\n",
    "input_data = input(\"Input a string: \")\n",
    "print(\"Number of substrings:\") \n",
    "print(non_empty_substrings(input_data))"
   ]
  },
  {
   "cell_type": "markdown",
   "metadata": {
    "colab_type": "text",
    "id": "U9fiSLfEgHHK"
   },
   "source": [
    "Q6. Write the Python program to count the number of strings where the\n",
    "string length is 2 or more, and first and last character are same\n",
    "from a given list of strings.\n",
    "\n",
    "    Sample List : ['abc', 'xyz', 'wxw', '1331']\n",
    "    Expected Result: 2"
   ]
  },
  {
   "cell_type": "code",
   "execution_count": null,
   "metadata": {
    "colab": {},
    "colab_type": "code",
    "id": "qanelY4_gHHL"
   },
   "outputs": [],
   "source": [
    "data = ['abc', 'xyz', 'wxw', '1331']\n",
    "result = 0\n",
    "for i in data:\n",
    "    if i[0] == i[-1]:\n",
    "        result = result+1\n",
    "print(result)\n"
   ]
  },
  {
   "cell_type": "markdown",
   "metadata": {
    "colab_type": "text",
    "id": "PkzCCDTCgHHP"
   },
   "source": [
    "Q7. Write the Python program to get a list, sorted in increasing order by\n",
    "the last element in each tuple from the given list of non-empty\n",
    "tuples?\n",
    "\n",
    "    Sample List - [ (2, 5), (1, 2), (4, 4), (2, 3), (2, 1) ]\n",
    "    Expected Result - [ (2, 1), (1, 2), (2, 3), (4, 4), (2, 5) ]"
   ]
  },
  {
   "cell_type": "code",
   "execution_count": null,
   "metadata": {
    "colab": {
     "base_uri": "https://localhost:8080/",
     "height": 34
    },
    "colab_type": "code",
    "id": "YX6mi40pgHHQ",
    "outputId": "f35ec28c-7d60-4ec2-daed-be02155ac1eb"
   },
   "outputs": [],
   "source": [
    "data = [ (2, 5), (1, 2), (4, 4), (2, 3), (2, 1) ]\n",
    "first = []\n",
    "second = []\n",
    "for i in range(len(data)):\n",
    "  first.append(data[i][0])\n",
    "  second.append(data[i][1])\n",
    "second.sort()\n",
    "print(list(zip(first,second)))"
   ]
  },
  {
   "cell_type": "markdown",
   "metadata": {
    "colab_type": "text",
    "id": "SpczLDHHgHHV"
   },
   "source": [
    "Q8. Write the Python program to remove duplicates from a list?"
   ]
  },
  {
   "cell_type": "code",
   "execution_count": null,
   "metadata": {
    "colab": {
     "base_uri": "https://localhost:8080/",
     "height": 34
    },
    "colab_type": "code",
    "id": "kW1Uh1SagHHV",
    "outputId": "6a9f79a4-f214-4baa-ccff-4b2accc32c8a"
   },
   "outputs": [],
   "source": [
    "data = [1,2,3,4,5,6,7,8,9,10,1,2,3,4,5,6,7,8,9]\n",
    "print(list(dict.fromkeys(data)))"
   ]
  },
  {
   "cell_type": "markdown",
   "metadata": {
    "colab_type": "text",
    "id": "UlXe55n0gHHa"
   },
   "source": [
    "Q9. Write the Python program to find the list of words that are longer\n",
    "than n from a given list of words?"
   ]
  },
  {
   "cell_type": "code",
   "execution_count": null,
   "metadata": {
    "colab": {
     "base_uri": "https://localhost:8080/",
     "height": 34
    },
    "colab_type": "code",
    "id": "A7nBnX-0gHHc",
    "outputId": "eaad61cc-aacc-4b14-c6f1-7bead26508d7"
   },
   "outputs": [],
   "source": [
    "def long_words(data,n):\n",
    "  result = []\n",
    "  for i in range(len(data)):\n",
    "    if len(data[i])>n:\n",
    "      result.append(data[i])\n",
    "  return result\n",
    "\n",
    "data = ['today','is','a','very','beautiful','day']\n",
    "print(long_words(data,3))"
   ]
  },
  {
   "cell_type": "markdown",
   "metadata": {
    "colab_type": "text",
    "id": "W3swxTbzgHHh"
   },
   "source": [
    "Q10. Write the Python program to print a specified list after removing the\n",
    "0th, 4th, and 5th elements?\n",
    "    \n",
    "    Sample List - ['Red', 'Green', 'White', 'Black', 'Pink', 'Yellow']\n",
    "    Expected Output - ['Green', 'White', 'Black']"
   ]
  },
  {
   "cell_type": "code",
   "execution_count": null,
   "metadata": {
    "colab": {
     "base_uri": "https://localhost:8080/",
     "height": 34
    },
    "colab_type": "code",
    "id": "7BVabS3egHHj",
    "outputId": "0fb72c15-c55f-4749-9efb-4718f6ff4899"
   },
   "outputs": [],
   "source": [
    "data = ['Red', 'Green', 'White', 'Black', 'Pink', 'Yellow']\n",
    "print(data[1:4])"
   ]
  },
  {
   "cell_type": "markdown",
   "metadata": {
    "colab_type": "text",
    "id": "16lyisXtgHHo"
   },
   "source": [
    "Q11. Write the Python program to generate all permutations of a list in\n",
    "Python?"
   ]
  },
  {
   "cell_type": "code",
   "execution_count": null,
   "metadata": {
    "colab": {
     "base_uri": "https://localhost:8080/",
     "height": 34
    },
    "colab_type": "code",
    "id": "j3dc0CRUgHHp",
    "outputId": "a0f3e525-aa02-439f-d2c7-90b843806f2f"
   },
   "outputs": [],
   "source": [
    "import itertools\n",
    "print(list(itertools.permutations([1,2,3])))"
   ]
  },
  {
   "cell_type": "markdown",
   "metadata": {
    "colab_type": "text",
    "id": "2IFAqTkvgHHu"
   },
   "source": [
    "Q12. Write the Python program to convert a pair of values into a sorted\n",
    "unique array?\n",
    " \n",
    "    Original List- [ (1, 2), (3, 4), (1, 2), (5, 6), (7, 8), (1, 2), (3, 4), (3, 4), (7, 8), (9, 10) ]\n",
    "    Sorted Unique Data- [ 1, 2, 3, 4, 5, 6, 7, 8, 9, 10 ] \n"
   ]
  },
  {
   "cell_type": "code",
   "execution_count": null,
   "metadata": {
    "colab": {
     "base_uri": "https://localhost:8080/",
     "height": 34
    },
    "colab_type": "code",
    "id": "moz-IGpcgHHv",
    "outputId": "3a3b0f6b-ca4a-4a62-9953-239a3aba6384"
   },
   "outputs": [],
   "source": [
    "a = [ (1, 2), (3, 4), (1, 2), (5, 6), (7, 8), (1, 2), (3, 4), (3, 4), (7, 8), (9, 10) ]\n",
    "data = []\n",
    "\n",
    "for i in range(len(a)):\n",
    "    for j in range(len(a[i])):\n",
    "        data.append(a[i][j])\n",
    "print(list(dict.fromkeys(data)))"
   ]
  },
  {
   "cell_type": "markdown",
   "metadata": {
    "colab_type": "text",
    "id": "uVEGlY0VgHH0"
   },
   "source": [
    "## Great job!"
   ]
  }
 ],
 "metadata": {
  "colab": {
   "name": "Subjective Assignment - 2 - Python Function and List.ipynb",
   "provenance": []
  },
  "kernelspec": {
   "display_name": "Python 3",
   "language": "python",
   "name": "python3"
  },
  "language_info": {
   "codemirror_mode": {
    "name": "ipython",
    "version": 3
   },
   "file_extension": ".py",
   "mimetype": "text/x-python",
   "name": "python",
   "nbconvert_exporter": "python",
   "pygments_lexer": "ipython3",
   "version": "3.7.4"
  }
 },
 "nbformat": 4,
 "nbformat_minor": 1
}
