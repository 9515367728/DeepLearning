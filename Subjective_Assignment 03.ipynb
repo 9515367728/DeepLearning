{
  "nbformat": 4,
  "nbformat_minor": 0,
  "metadata": {
    "kernelspec": {
      "display_name": "Python 3",
      "language": "python",
      "name": "python3"
    },
    "language_info": {
      "codemirror_mode": {
        "name": "ipython",
        "version": 3
      },
      "file_extension": ".py",
      "mimetype": "text/x-python",
      "name": "python",
      "nbconvert_exporter": "python",
      "pygments_lexer": "ipython3",
      "version": "3.7.4"
    },
    "colab": {
      "name": "Copy of Subjective Assignment - 3 - Python Class.ipynb",
      "provenance": [],
      "collapsed_sections": []
    }
  },
  "cells": [
    {
      "cell_type": "markdown",
      "metadata": {
        "id": "LeBA3bC8SJwZ",
        "colab_type": "text"
      },
      "source": [
        "# Assignment"
      ]
    },
    {
      "cell_type": "markdown",
      "metadata": {
        "id": "0PXhNiJeSJwc",
        "colab_type": "text"
      },
      "source": [
        "Q1. Write the Python class to convert an integer to a roman numeral?"
      ]
    },
    {
      "cell_type": "code",
      "metadata": {
        "id": "JpYQ9cpaSJwe",
        "colab_type": "code",
        "colab": {
          "base_uri": "https://localhost:8080/",
          "height": 34
        },
        "outputId": "37749d64-eae8-4c31-fa6e-4f21858d3feb"
      },
      "source": [
        "class Converting_int_to_Roman:\n",
        "    def Conversion(self, num):\n",
        "        numbers = [\n",
        "            1000, 900, 500, 400,\n",
        "            100, 90, 50, 40,\n",
        "            10, 9, 5, 4,\n",
        "            1\n",
        "            ]\n",
        "        symbols = [\n",
        "            \"M\", \"CM\", \"D\", \"CD\",\n",
        "            \"C\", \"XC\", \"L\", \"XL\",\n",
        "            \"X\", \"IX\", \"V\", \"IV\",\n",
        "            \"I\"\n",
        "            ]\n",
        "        roman_num = ''\n",
        "        i = 0\n",
        "        while  num > 0:\n",
        "            for _ in range(num // numbers[i]):\n",
        "                roman_num += symbols[i]\n",
        "                num -= numbers[i]\n",
        "            i += 1\n",
        "        return roman_num\n",
        "\n",
        "\n",
        "print(Converting_int_to_Roman().Conversion(1))"
      ],
      "execution_count": 7,
      "outputs": [
        {
          "output_type": "stream",
          "text": [
            "I\n"
          ],
          "name": "stdout"
        }
      ]
    },
    {
      "cell_type": "markdown",
      "metadata": {
        "id": "JOLFoPsYSJwl",
        "colab_type": "text"
      },
      "source": [
        "Q2 Write the Python class to convert a Roman numeral to an integer?\n"
      ]
    },
    {
      "cell_type": "code",
      "metadata": {
        "id": "brfv4PkHSJwm",
        "colab_type": "code",
        "colab": {
          "base_uri": "https://localhost:8080/",
          "height": 34
        },
        "outputId": "6476fafb-4165-4895-ec9d-ce903543a09a"
      },
      "source": [
        "class Converting_Roman_to_int:\n",
        "    def Conversion(self, data):\n",
        "        Roman_numbers = {'I': 1, 'V': 5, 'X': 10, 'L': 50, 'C': 100, 'D': 500, 'M': 1000}\n",
        "        integers = 0\n",
        "        for i in range(len(data)):\n",
        "            if i > 0 and Roman_numbers[data[i]] > Roman_numbers[data[i - 1]]:\n",
        "                integers += Roman_numbers[data[i]] - 2 * Roman_numbers[data[i - 1]]\n",
        "            else:\n",
        "                integers += Roman_numbers[data[i]]\n",
        "        return integers\n",
        "\n",
        "print(Converting_Roman_to_int().Conversion('MMMCMLXXXVI'))"
      ],
      "execution_count": 9,
      "outputs": [
        {
          "output_type": "stream",
          "text": [
            "3986\n"
          ],
          "name": "stdout"
        }
      ]
    },
    {
      "cell_type": "markdown",
      "metadata": {
        "id": "tARPlMVbSJwu",
        "colab_type": "text"
      },
      "source": [
        "Q3. Write the Python class to find the validity of the string of the\n",
        "parentheses, '(', ')', '{', '}', '[' and '] and the brackets must be closed\n",
        "in the correct order, example - \"()\" and \"()[]{}\" are valid but \"[)\",\n",
        "\"({[)]\" and \"{{{\" are invalid.\n"
      ]
    },
    {
      "cell_type": "code",
      "metadata": {
        "id": "LyocAGZPSJwx",
        "colab_type": "code",
        "colab": {
          "base_uri": "https://localhost:8080/",
          "height": 34
        },
        "outputId": "14d65db3-02c6-49a7-ad8c-87b67016a8e8"
      },
      "source": [
        "def parentheses_checking(data):\n",
        "        type1, type2 = [], {\"(\": \")\", \"{\": \"}\", \"[\": \"]\"}\n",
        "        for parenthese in data:\n",
        "            if parenthese in type2:\n",
        "                type1.append(parenthese)\n",
        "            elif len(type1) == 0 or type2[type1.pop()] != parenthese:\n",
        "                return False\n",
        "        return len(type1) == 0\n",
        "\n",
        "print(parentheses_checking(\"(){}[]\"))"
      ],
      "execution_count": 13,
      "outputs": [
        {
          "output_type": "stream",
          "text": [
            "True\n"
          ],
          "name": "stdout"
        }
      ]
    },
    {
      "cell_type": "markdown",
      "metadata": {
        "id": "e4GKfcumSJw2",
        "colab_type": "text"
      },
      "source": [
        "Q4. Write the Python class to get all possible unique subsets from a set\n",
        "of distinct integers?\n",
        "\n",
        "    Input - [4, 5, 6]\n",
        "    Output - [[], [6], [5], [5, 6], [4], [4, 6], [4, 5], [4, 5, 6]]"
      ]
    },
    {
      "cell_type": "code",
      "metadata": {
        "id": "WM10_XK6SJw3",
        "colab_type": "code",
        "colab": {
          "base_uri": "https://localhost:8080/",
          "height": 34
        },
        "outputId": "63aebbfd-5b67-4823-8797-13bd7ffecfda"
      },
      "source": [
        "class Unique_Subsets:\n",
        "    def first(self, data):\n",
        "        return self.second([], sorted(data))\n",
        "    \n",
        "    def second(self, result, data):\n",
        "        if data:\n",
        "            return self.second(result, data[1:]) + self.second(result + [data[0]], data[1:])\n",
        "        return [result]\n",
        "\n",
        "print(Unique_Subsets().first([4,5,6]))"
      ],
      "execution_count": 21,
      "outputs": [
        {
          "output_type": "stream",
          "text": [
            "[[], [6], [5], [5, 6], [4], [4, 6], [4, 5], [4, 5, 6]]\n"
          ],
          "name": "stdout"
        }
      ]
    },
    {
      "cell_type": "markdown",
      "metadata": {
        "id": "we2YlundSJw7",
        "colab_type": "text"
      },
      "source": [
        "Q5. Write the Python class to find a pair of elements (indices of the two\n",
        "numbers) from a given array whose sum equals the specific target\n",
        "number?\n",
        "\n",
        "    Input: numbers- [10,20,10,40,50,60,70], target=50\n",
        "    Output- 3, 4"
      ]
    },
    {
      "cell_type": "code",
      "metadata": {
        "id": "2q-FgbaySJw8",
        "colab_type": "code",
        "colab": {
          "base_uri": "https://localhost:8080/",
          "height": 34
        },
        "outputId": "b98524e4-fc3b-4d2b-9943-ad11bb195b1f"
      },
      "source": [
        "def Equal_sum(data, target):\n",
        "      result = {}\n",
        "      for i, num in enumerate(data):\n",
        "          if target - num in result:\n",
        "              return (result[target - num], i )\n",
        "          result[num] = i\n",
        "print(Equal_sum((10,20,10,40,50,60,70),50))"
      ],
      "execution_count": 32,
      "outputs": [
        {
          "output_type": "stream",
          "text": [
            "(2, 3)\n"
          ],
          "name": "stdout"
        }
      ]
    },
    {
      "cell_type": "markdown",
      "metadata": {
        "id": "Idstcs_bSJxB",
        "colab_type": "text"
      },
      "source": [
        "Q6. Write the Python class to find the three elements that sum to zero\n",
        "from the set of n real numbers?\n",
        "\n",
        "    Input array- [-25, -10, -7, -3, 2, 4, 8, 10]\n",
        "    Output - [[-10, 2, 8], [-7, -3, 10]]\n"
      ]
    },
    {
      "cell_type": "code",
      "metadata": {
        "id": "5ML4b3DmSJxC",
        "colab_type": "code",
        "colab": {
          "base_uri": "https://localhost:8080/",
          "height": 34
        },
        "outputId": "8e3049e7-7c54-4f9e-ea64-75a433927898"
      },
      "source": [
        "def sum_to_zero(data):  \n",
        "        data, result, i = sorted(data), [], 0  \n",
        "        while i < len(data) - 2:  \n",
        "            j, k = i + 1, len(data) - 1  \n",
        "            while j < k:  \n",
        "                if data[i] + data[j] + data[k] < 0:  \n",
        "                    j += 1  \n",
        "                elif data[i] + data[j] + data[k] > 0:  \n",
        "                    k -= 1  \n",
        "                else:  \n",
        "                    result.append([data[i], data[j], data[k]])  \n",
        "                    j, k = j + 1, k - 1  \n",
        "                    while j < k and data[j] == data[j - 1]:  \n",
        "                        j += 1  \n",
        "                    while j < k and data[k] == data[k + 1]:  \n",
        "                        k -= 1  \n",
        "            i += 1  \n",
        "            while i < len(data) - 2 and data[i] == data[i - 1]:  \n",
        "                i += 1  \n",
        "        return result\n",
        "print(sum_to_zero([-25, -10, -7, -3, 2, 4, 8, 10]))"
      ],
      "execution_count": 36,
      "outputs": [
        {
          "output_type": "stream",
          "text": [
            "[[-10, 2, 8], [-7, -3, 10]]\n"
          ],
          "name": "stdout"
        }
      ]
    },
    {
      "cell_type": "markdown",
      "metadata": {
        "id": "1TqzUVcLSJxG",
        "colab_type": "text"
      },
      "source": [
        "Q7. Write the Python class to implement pow(x, n)?"
      ]
    },
    {
      "cell_type": "code",
      "metadata": {
        "id": "9flF0rHOSJxH",
        "colab_type": "code",
        "colab": {
          "base_uri": "https://localhost:8080/",
          "height": 34
        },
        "outputId": "56245516-88fe-434d-fbda-9f0d8175b41c"
      },
      "source": [
        "def power(x, y): \n",
        "  \n",
        "    if (y == 0): \n",
        "      return 1\n",
        "    elif (int(y % 2) == 0): \n",
        "        return (power(x, int(y / 2)) * power(x, int(y / 2))) \n",
        "    else: \n",
        "        return (x * power(x, int(y / 2)) * power(x, int(y / 2))) \n",
        "  \n",
        "print(power(5, 4)) "
      ],
      "execution_count": 38,
      "outputs": [
        {
          "output_type": "stream",
          "text": [
            "625\n"
          ],
          "name": "stdout"
        }
      ]
    },
    {
      "cell_type": "markdown",
      "metadata": {
        "id": "E_lalvQjSJxL",
        "colab_type": "text"
      },
      "source": [
        "Q8. Write the Python class which has two methods get_String and\n",
        "print_String. get_String accept the string from the user and \n",
        "print_String print the string in upper case."
      ]
    },
    {
      "cell_type": "code",
      "metadata": {
        "id": "0vz_7UdCSJxM",
        "colab_type": "code",
        "colab": {
          "base_uri": "https://localhost:8080/",
          "height": 51
        },
        "outputId": "448eccdc-2992-412d-8839-11eb4b96c91c"
      },
      "source": [
        "class Main():  \n",
        "    def __init__(self):  \n",
        "        self.data = \"\"  \n",
        "  \n",
        "    def First(self):  \n",
        "        self.data = input()  \n",
        "  \n",
        "    def Second(self):  \n",
        "        print(self.data.upper())  \n",
        "  \n",
        "data = Main()  \n",
        "data.First()  \n",
        "data.Second()\n"
      ],
      "execution_count": 39,
      "outputs": [
        {
          "output_type": "stream",
          "text": [
            "hello\n",
            "HELLO\n"
          ],
          "name": "stdout"
        }
      ]
    },
    {
      "cell_type": "markdown",
      "metadata": {
        "id": "OSAiQuu0SJxS",
        "colab_type": "text"
      },
      "source": [
        "Q9. Write the Python class named Rectangle constructed by a length\n",
        "and width and the method which will compute the area of the\n",
        "rectangle?"
      ]
    },
    {
      "cell_type": "code",
      "metadata": {
        "id": "FVw9uhUXSJxT",
        "colab_type": "code",
        "colab": {
          "base_uri": "https://localhost:8080/",
          "height": 85
        },
        "outputId": "629706da-0c14-4b8a-8f79-956fb76c40c8"
      },
      "source": [
        "class Rectangle():\n",
        "    def __init__(self,breadth,length):\n",
        "        self.breadth=breadth\n",
        "        self.length=length\n",
        "    def Area(self):\n",
        "        return self.breadth*self.length\n",
        "a=int(input(\"length of rectangle: \"))\n",
        "b=int(input(\"breadth of rectangle: \"))\n",
        "obj=Rectangle(a,b)\n",
        "print(\"Area of rectangle:\",obj.Area())\n",
        " \n",
        "print()"
      ],
      "execution_count": 40,
      "outputs": [
        {
          "output_type": "stream",
          "text": [
            "length of rectangle: 10\n",
            "breadth of rectangle: 15\n",
            "Area of rectangle: 150\n",
            "\n"
          ],
          "name": "stdout"
        }
      ]
    },
    {
      "cell_type": "markdown",
      "metadata": {
        "id": "FE-0qxjxSJxY",
        "colab_type": "text"
      },
      "source": [
        "Q10. Write the Python class named Circle constructed by the radius\n",
        "and two methods which will compute the area and perimeter of\n",
        "the circle?"
      ]
    },
    {
      "cell_type": "code",
      "metadata": {
        "id": "uX7hSTVASJxa",
        "colab_type": "code",
        "colab": {
          "base_uri": "https://localhost:8080/",
          "height": 68
        },
        "outputId": "e4207b9b-fa68-445f-d768-bf4c5d9e4c46"
      },
      "source": [
        "import math\n",
        "class Circle():\n",
        "    def __init__(self,radius):\n",
        "        self.radius=radius\n",
        "    def Area(self):\n",
        "        return math.pi*(self.radius**2)\n",
        "    def Perimeter(self):\n",
        "        return 2*math.pi*self.radius\n",
        " \n",
        "r=int(input(\"radius of circle: \"))\n",
        "obj=Circle(r)\n",
        "print(\"Area of circle:\",round(obj.Area(),2))\n",
        "print(\"Perimeter of circle:\",round(obj.Perimeter(),2))"
      ],
      "execution_count": 42,
      "outputs": [
        {
          "output_type": "stream",
          "text": [
            "radius of circle: 5\n",
            "Area of circle: 78.54\n",
            "Perimeter of circle: 31.42\n"
          ],
          "name": "stdout"
        }
      ]
    },
    {
      "cell_type": "markdown",
      "metadata": {
        "id": "WaE0leRcSJxe",
        "colab_type": "text"
      },
      "source": [
        "Q11. Write the Python program to get the class name of an instance in\n",
        "Python?"
      ]
    },
    {
      "cell_type": "code",
      "metadata": {
        "id": "P3Pi5CSnSJxf",
        "colab_type": "code",
        "colab": {
          "base_uri": "https://localhost:8080/",
          "height": 34
        },
        "outputId": "ecf1c96a-a07c-40c9-aeec-0c430dae613d"
      },
      "source": [
        "import itertools\n",
        "x = itertools.cycle('Instance')\n",
        "print(type(x).__name__)"
      ],
      "execution_count": 43,
      "outputs": [
        {
          "output_type": "stream",
          "text": [
            "cycle\n"
          ],
          "name": "stdout"
        }
      ]
    },
    {
      "cell_type": "markdown",
      "metadata": {
        "id": "kL3fTkhRSJxj",
        "colab_type": "text"
      },
      "source": [
        "Q12. Write the Python program to count the number of students of\n",
        "individual class?\n",
        "\n",
        "    Sample dataclasses = (\n",
        "    ('V', 1),\n",
        "    ('VI', 1),\n",
        "    ('V', 2),\n",
        "    ('VI', 2),\n",
        "    ('VI', 3),\n",
        "    ('VII', 1),\n",
        "    )\n",
        "    Expected OutputCounter({'VI': 3, 'V': 2, 'VII': 1})"
      ]
    },
    {
      "cell_type": "code",
      "metadata": {
        "id": "7SGEJxFASJxk",
        "colab_type": "code",
        "colab": {
          "base_uri": "https://localhost:8080/",
          "height": 34
        },
        "outputId": "de238ae2-471a-4d3d-a9ad-a3f8b18d3247"
      },
      "source": [
        "from collections import Counter\n",
        "classes = (\n",
        "    ('V', 1),\n",
        "    ('VI', 1),\n",
        "    ('V', 2),\n",
        "    ('VI', 2),\n",
        "    ('VI', 3),\n",
        "    ('VII', 1),\n",
        ")\n",
        "students = Counter(class_name for class_name, no_students in classes)\n",
        "print(students)"
      ],
      "execution_count": 49,
      "outputs": [
        {
          "output_type": "stream",
          "text": [
            "Counter({'VI': 3, 'V': 2, 'VII': 1})\n"
          ],
          "name": "stdout"
        }
      ]
    },
    {
      "cell_type": "markdown",
      "metadata": {
        "id": "nZaafF-0SJxp",
        "colab_type": "text"
      },
      "source": [
        "## Great Job!"
      ]
    }
  ]
}